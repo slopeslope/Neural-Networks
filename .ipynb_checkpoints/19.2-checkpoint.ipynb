{
 "cells": [
  {
   "cell_type": "code",
   "execution_count": 1,
   "metadata": {},
   "outputs": [
    {
     "name": "stderr",
     "output_type": "stream",
     "text": [
      "C:\\Users\\sebac\\anaconda3\\envs\\pythondate\\lib\\site-packages\\tensorflow\\python\\framework\\dtypes.py:516: FutureWarning: Passing (type, 1) or '1type' as a synonym of type is deprecated; in a future version of numpy, it will be understood as (type, (1,)) / '(1,)type'.\n",
      "  _np_qint8 = np.dtype([(\"qint8\", np.int8, 1)])\n",
      "C:\\Users\\sebac\\anaconda3\\envs\\pythondate\\lib\\site-packages\\tensorflow\\python\\framework\\dtypes.py:517: FutureWarning: Passing (type, 1) or '1type' as a synonym of type is deprecated; in a future version of numpy, it will be understood as (type, (1,)) / '(1,)type'.\n",
      "  _np_quint8 = np.dtype([(\"quint8\", np.uint8, 1)])\n",
      "C:\\Users\\sebac\\anaconda3\\envs\\pythondate\\lib\\site-packages\\tensorflow\\python\\framework\\dtypes.py:518: FutureWarning: Passing (type, 1) or '1type' as a synonym of type is deprecated; in a future version of numpy, it will be understood as (type, (1,)) / '(1,)type'.\n",
      "  _np_qint16 = np.dtype([(\"qint16\", np.int16, 1)])\n",
      "C:\\Users\\sebac\\anaconda3\\envs\\pythondate\\lib\\site-packages\\tensorflow\\python\\framework\\dtypes.py:519: FutureWarning: Passing (type, 1) or '1type' as a synonym of type is deprecated; in a future version of numpy, it will be understood as (type, (1,)) / '(1,)type'.\n",
      "  _np_quint16 = np.dtype([(\"quint16\", np.uint16, 1)])\n",
      "C:\\Users\\sebac\\anaconda3\\envs\\pythondate\\lib\\site-packages\\tensorflow\\python\\framework\\dtypes.py:520: FutureWarning: Passing (type, 1) or '1type' as a synonym of type is deprecated; in a future version of numpy, it will be understood as (type, (1,)) / '(1,)type'.\n",
      "  _np_qint32 = np.dtype([(\"qint32\", np.int32, 1)])\n",
      "C:\\Users\\sebac\\anaconda3\\envs\\pythondate\\lib\\site-packages\\tensorflow\\python\\framework\\dtypes.py:525: FutureWarning: Passing (type, 1) or '1type' as a synonym of type is deprecated; in a future version of numpy, it will be understood as (type, (1,)) / '(1,)type'.\n",
      "  np_resource = np.dtype([(\"resource\", np.ubyte, 1)])\n",
      "C:\\Users\\sebac\\anaconda3\\envs\\pythondate\\lib\\site-packages\\tensorboard\\compat\\tensorflow_stub\\dtypes.py:541: FutureWarning: Passing (type, 1) or '1type' as a synonym of type is deprecated; in a future version of numpy, it will be understood as (type, (1,)) / '(1,)type'.\n",
      "  _np_qint8 = np.dtype([(\"qint8\", np.int8, 1)])\n",
      "C:\\Users\\sebac\\anaconda3\\envs\\pythondate\\lib\\site-packages\\tensorboard\\compat\\tensorflow_stub\\dtypes.py:542: FutureWarning: Passing (type, 1) or '1type' as a synonym of type is deprecated; in a future version of numpy, it will be understood as (type, (1,)) / '(1,)type'.\n",
      "  _np_quint8 = np.dtype([(\"quint8\", np.uint8, 1)])\n",
      "C:\\Users\\sebac\\anaconda3\\envs\\pythondate\\lib\\site-packages\\tensorboard\\compat\\tensorflow_stub\\dtypes.py:543: FutureWarning: Passing (type, 1) or '1type' as a synonym of type is deprecated; in a future version of numpy, it will be understood as (type, (1,)) / '(1,)type'.\n",
      "  _np_qint16 = np.dtype([(\"qint16\", np.int16, 1)])\n",
      "C:\\Users\\sebac\\anaconda3\\envs\\pythondate\\lib\\site-packages\\tensorboard\\compat\\tensorflow_stub\\dtypes.py:544: FutureWarning: Passing (type, 1) or '1type' as a synonym of type is deprecated; in a future version of numpy, it will be understood as (type, (1,)) / '(1,)type'.\n",
      "  _np_quint16 = np.dtype([(\"quint16\", np.uint16, 1)])\n",
      "C:\\Users\\sebac\\anaconda3\\envs\\pythondate\\lib\\site-packages\\tensorboard\\compat\\tensorflow_stub\\dtypes.py:545: FutureWarning: Passing (type, 1) or '1type' as a synonym of type is deprecated; in a future version of numpy, it will be understood as (type, (1,)) / '(1,)type'.\n",
      "  _np_qint32 = np.dtype([(\"qint32\", np.int32, 1)])\n",
      "C:\\Users\\sebac\\anaconda3\\envs\\pythondate\\lib\\site-packages\\tensorboard\\compat\\tensorflow_stub\\dtypes.py:550: FutureWarning: Passing (type, 1) or '1type' as a synonym of type is deprecated; in a future version of numpy, it will be understood as (type, (1,)) / '(1,)type'.\n",
      "  np_resource = np.dtype([(\"resource\", np.ubyte, 1)])\n"
     ]
    }
   ],
   "source": [
    "# Import our dependencies\n",
    "import pandas as pd\n",
    "import matplotlib as plt\n",
    "from sklearn.datasets import make_blobs\n",
    "import sklearn as skl\n",
    "import tensorflow as tf"
   ]
  },
  {
   "cell_type": "code",
   "execution_count": 2,
   "metadata": {},
   "outputs": [
    {
     "data": {
      "text/plain": [
       "<matplotlib.axes._subplots.AxesSubplot at 0x21d095f3c48>"
      ]
     },
     "execution_count": 2,
     "metadata": {},
     "output_type": "execute_result"
    },
    {
     "data": {
      "image/png": "[encoded data removed]",
      "text/plain": [
       "<Figure size 432x288 with 2 Axes>"
      ]
     },
     "metadata": {
      "needs_background": "light"
     },
     "output_type": "display_data"
    }
   ],
   "source": [
    "# Generate dummy dataset\n",
    "X, y = make_blobs(n_samples=1000, centers=2, n_features=2, random_state=78)\n",
    "\n",
    "# Creating a DataFrame with the dummy data\n",
    "df = pd.DataFrame(X, columns=[\"Feature 1\", \"Feature 2\"])\n",
    "df[\"Target\"] = y\n",
    "\n",
    "# Plotting the dummy data\n",
    "df.plot.scatter(x=\"Feature 1\", y=\"Feature 2\", c=\"Target\", colormap=\"winter\")"
   ]
  },
  {
   "cell_type": "code",
   "execution_count": 3,
   "metadata": {},
   "outputs": [],
   "source": [
    "# Use sklearn to split dataset\n",
    "from sklearn.model_selection import train_test_split\n",
    "X_train, X_test, y_train, y_test = train_test_split(X, y, random_state=78)"
   ]
  },
  {
   "cell_type": "code",
   "execution_count": 4,
   "metadata": {},
   "outputs": [],
   "source": [
    "# Create scaler instance\n",
    "X_scaler = skl.preprocessing.StandardScaler()\n",
    "\n",
    "# Fit the scaler\n",
    "X_scaler.fit(X_train)\n",
    "\n",
    "# Scale the data\n",
    "X_train_scaled = X_scaler.transform(X_train)\n",
    "X_test_scaled = X_scaler.transform(X_test)"
   ]
  },
  {
   "cell_type": "code",
   "execution_count": 5,
   "metadata": {},
   "outputs": [],
   "source": [
    "# Create the Keras Sequential model\n",
    "nn_model = tf.keras.models.Sequential()"
   ]
  },
  {
   "cell_type": "code",
   "execution_count": 6,
   "metadata": {},
   "outputs": [
    {
     "name": "stdout",
     "output_type": "stream",
     "text": [
      "WARNING:tensorflow:From C:\\Users\\sebac\\anaconda3\\envs\\pythondate\\lib\\site-packages\\tensorflow\\python\\ops\\init_ops.py:1251: calling VarianceScaling.__init__ (from tensorflow.python.ops.init_ops) with dtype is deprecated and will be removed in a future version.\n",
      "Instructions for updating:\n",
      "Call initializer instance with the dtype argument instead of passing it to the constructor\n"
     ]
    }
   ],
   "source": [
    "# Add our first Dense layer, including the input layer\n",
    "nn_model.add(tf.keras.layers.Dense(units=1, activation=\"relu\", input_dim=2))"
   ]
  },
  {
   "cell_type": "code",
   "execution_count": 7,
   "metadata": {},
   "outputs": [],
   "source": [
    "# Add the output layer that uses a probability activation function\n",
    "nn_model.add(tf.keras.layers.Dense(units=1, activation=\"sigmoid\"))"
   ]
  },
  {
   "cell_type": "code",
   "execution_count": 8,
   "metadata": {},
   "outputs": [
    {
     "name": "stdout",
     "output_type": "stream",
     "text": [
      "Model: \"sequential\"\n",
      "_________________________________________________________________\n",
      "Layer (type)                 Output Shape              Param #   \n",
      "=================================================================\n",
      "dense (Dense)                (None, 1)                 3         \n",
      "_________________________________________________________________\n",
      "dense_1 (Dense)              (None, 1)                 2         \n",
      "=================================================================\n",
      "Total params: 5\n",
      "Trainable params: 5\n",
      "Non-trainable params: 0\n",
      "_________________________________________________________________\n"
     ]
    }
   ],
   "source": [
    "# Check the structure of the Sequential model\n",
    "nn_model.summary()"
   ]
  },
  {
   "cell_type": "code",
   "execution_count": 9,
   "metadata": {},
   "outputs": [
    {
     "name": "stdout",
     "output_type": "stream",
     "text": [
      "WARNING:tensorflow:From C:\\Users\\sebac\\anaconda3\\envs\\pythondate\\lib\\site-packages\\tensorflow\\python\\ops\\nn_impl.py:180: add_dispatch_support.<locals>.wrapper (from tensorflow.python.ops.array_ops) is deprecated and will be removed in a future version.\n",
      "Instructions for updating:\n",
      "Use tf.where in 2.0, which has the same broadcast rule as np.where\n"
     ]
    }
   ],
   "source": [
    "# Compile the Sequential model together and customize metrics\n",
    "nn_model.compile(loss=\"binary_crossentropy\", optimizer=\"adam\", metrics=[\"accuracy\"])\n"
   ]
  },
  {
   "cell_type": "code",
   "execution_count": 10,
   "metadata": {},
   "outputs": [
    {
     "name": "stdout",
     "output_type": "stream",
     "text": [
      "Epoch 1/100\n",
      "750/750 [==============================] - 0s 112us/sample - loss: 0.6548 - acc: 0.9747\n",
      "Epoch 2/100\n",
      "750/750 [==============================] - 0s 20us/sample - loss: 0.6462 - acc: 1.0000\n",
      "Epoch 3/100\n",
      "750/750 [==============================] - 0s 20us/sample - loss: 0.6370 - acc: 1.0000\n",
      "Epoch 4/100\n",
      "750/750 [==============================] - 0s 20us/sample - loss: 0.6268 - acc: 1.0000\n",
      "Epoch 5/100\n",
      "750/750 [==============================] - 0s 19us/sample - loss: 0.6159 - acc: 1.0000\n",
      "Epoch 6/100\n",
      "750/750 [==============================] - 0s 20us/sample - loss: 0.6041 - acc: 1.0000\n",
      "Epoch 7/100\n",
      "750/750 [==============================] - 0s 20us/sample - loss: 0.5917 - acc: 1.0000\n",
      "Epoch 8/100\n",
      "750/750 [==============================] - 0s 20us/sample - loss: 0.5787 - acc: 1.0000\n",
      "Epoch 9/100\n",
      "750/750 [==============================] - 0s 20us/sample - loss: 0.5650 - acc: 1.0000\n",
      "Epoch 10/100\n",
      "750/750 [==============================] - 0s 20us/sample - loss: 0.5511 - acc: 1.0000\n",
      "Epoch 11/100\n",
      "750/750 [==============================] - 0s 19us/sample - loss: 0.5369 - acc: 1.0000\n",
      "Epoch 12/100\n",
      "750/750 [==============================] - 0s 20us/sample - loss: 0.5224 - acc: 1.0000\n",
      "Epoch 13/100\n",
      "750/750 [==============================] - 0s 20us/sample - loss: 0.5078 - acc: 1.0000\n",
      "Epoch 14/100\n",
      "750/750 [==============================] - 0s 20us/sample - loss: 0.4933 - acc: 1.0000\n",
      "Epoch 15/100\n",
      "750/750 [==============================] - 0s 20us/sample - loss: 0.4787 - acc: 1.0000\n",
      "Epoch 16/100\n",
      "750/750 [==============================] - ETA: 0s - loss: 0.4483 - acc: 1.000 - 0s 20us/sample - loss: 0.4645 - acc: 1.0000\n",
      "Epoch 17/100\n",
      "750/750 [==============================] - 0s 21us/sample - loss: 0.4505 - acc: 1.0000\n",
      "Epoch 18/100\n",
      "750/750 [==============================] - 0s 20us/sample - loss: 0.4368 - acc: 1.0000\n",
      "Epoch 19/100\n",
      "750/750 [==============================] - 0s 19us/sample - loss: 0.4233 - acc: 1.0000\n",
      "Epoch 20/100\n",
      "750/750 [==============================] - 0s 20us/sample - loss: 0.4102 - acc: 1.0000\n",
      "Epoch 21/100\n",
      "750/750 [==============================] - 0s 20us/sample - loss: 0.3976 - acc: 1.0000\n",
      "Epoch 22/100\n",
      "750/750 [==============================] - 0s 20us/sample - loss: 0.3853 - acc: 1.0000\n",
      "Epoch 23/100\n",
      "750/750 [==============================] - 0s 20us/sample - loss: 0.3734 - acc: 1.0000\n",
      "Epoch 24/100\n",
      "750/750 [==============================] - 0s 20us/sample - loss: 0.3620 - acc: 1.0000\n",
      "Epoch 25/100\n",
      "750/750 [==============================] - 0s 21us/sample - loss: 0.3510 - acc: 1.0000\n",
      "Epoch 26/100\n",
      "750/750 [==============================] - 0s 20us/sample - loss: 0.3405 - acc: 1.0000\n",
      "Epoch 27/100\n",
      "750/750 [==============================] - 0s 19us/sample - loss: 0.3303 - acc: 1.0000\n",
      "Epoch 28/100\n",
      "750/750 [==============================] - 0s 19us/sample - loss: 0.3206 - acc: 1.0000\n",
      "Epoch 29/100\n",
      "750/750 [==============================] - 0s 20us/sample - loss: 0.3113 - acc: 1.0000\n",
      "Epoch 30/100\n",
      "750/750 [==============================] - 0s 20us/sample - loss: 0.3023 - acc: 1.0000\n",
      "Epoch 31/100\n",
      "750/750 [==============================] - 0s 19us/sample - loss: 0.2937 - acc: 1.0000\n",
      "Epoch 32/100\n",
      "750/750 [==============================] - 0s 19us/sample - loss: 0.2855 - acc: 1.0000\n",
      "Epoch 33/100\n",
      "750/750 [==============================] - 0s 20us/sample - loss: 0.2776 - acc: 1.0000\n",
      "Epoch 34/100\n",
      "750/750 [==============================] - 0s 20us/sample - loss: 0.2700 - acc: 1.0000\n",
      "Epoch 35/100\n",
      "750/750 [==============================] - 0s 20us/sample - loss: 0.2628 - acc: 1.0000\n",
      "Epoch 36/100\n",
      "750/750 [==============================] - 0s 20us/sample - loss: 0.2558 - acc: 1.0000\n",
      "Epoch 37/100\n",
      "750/750 [==============================] - 0s 20us/sample - loss: 0.2491 - acc: 1.0000\n",
      "Epoch 38/100\n",
      "750/750 [==============================] - 0s 19us/sample - loss: 0.2426 - acc: 1.0000\n",
      "Epoch 39/100\n",
      "750/750 [==============================] - 0s 19us/sample - loss: 0.2365 - acc: 1.0000\n",
      "Epoch 40/100\n",
      "750/750 [==============================] - 0s 20us/sample - loss: 0.2305 - acc: 1.0000\n",
      "Epoch 41/100\n",
      "750/750 [==============================] - 0s 20us/sample - loss: 0.2248 - acc: 1.0000\n",
      "Epoch 42/100\n",
      "750/750 [==============================] - 0s 21us/sample - loss: 0.2193 - acc: 1.0000\n",
      "Epoch 43/100\n",
      "750/750 [==============================] - 0s 20us/sample - loss: 0.2139 - acc: 1.0000\n",
      "Epoch 44/100\n",
      "750/750 [==============================] - 0s 19us/sample - loss: 0.2088 - acc: 1.0000\n",
      "Epoch 45/100\n",
      "750/750 [==============================] - 0s 20us/sample - loss: 0.2039 - acc: 1.0000\n",
      "Epoch 46/100\n",
      "750/750 [==============================] - 0s 23us/sample - loss: 0.1992 - acc: 1.0000\n",
      "Epoch 47/100\n",
      "750/750 [==============================] - 0s 23us/sample - loss: 0.1946 - acc: 1.0000\n",
      "Epoch 48/100\n",
      "750/750 [==============================] - 0s 20us/sample - loss: 0.1901 - acc: 1.0000\n",
      "Epoch 49/100\n",
      "750/750 [==============================] - 0s 20us/sample - loss: 0.1859 - acc: 1.0000\n",
      "Epoch 50/100\n",
      "750/750 [==============================] - 0s 20us/sample - loss: 0.1817 - acc: 1.0000\n",
      "Epoch 51/100\n",
      "750/750 [==============================] - 0s 20us/sample - loss: 0.1777 - acc: 1.0000\n",
      "Epoch 52/100\n",
      "750/750 [==============================] - 0s 20us/sample - loss: 0.1739 - acc: 1.0000\n",
      "Epoch 53/100\n",
      "750/750 [==============================] - 0s 20us/sample - loss: 0.1701 - acc: 1.0000\n",
      "Epoch 54/100\n",
      "750/750 [==============================] - 0s 20us/sample - loss: 0.1665 - acc: 1.0000\n",
      "Epoch 55/100\n",
      "750/750 [==============================] - 0s 20us/sample - loss: 0.1630 - acc: 1.0000\n",
      "Epoch 56/100\n",
      "750/750 [==============================] - 0s 23us/sample - loss: 0.1596 - acc: 1.0000\n",
      "Epoch 57/100\n",
      "750/750 [==============================] - 0s 23us/sample - loss: 0.1563 - acc: 1.0000\n",
      "Epoch 58/100\n",
      "750/750 [==============================] - 0s 20us/sample - loss: 0.1531 - acc: 1.0000\n",
      "Epoch 59/100\n",
      "750/750 [==============================] - 0s 20us/sample - loss: 0.1500 - acc: 1.0000\n",
      "Epoch 60/100\n",
      "750/750 [==============================] - 0s 20us/sample - loss: 0.1469 - acc: 1.0000\n",
      "Epoch 61/100\n",
      "750/750 [==============================] - 0s 20us/sample - loss: 0.1440 - acc: 1.0000\n",
      "Epoch 62/100\n",
      "750/750 [==============================] - 0s 20us/sample - loss: 0.1412 - acc: 1.0000\n",
      "Epoch 63/100\n",
      "750/750 [==============================] - 0s 20us/sample - loss: 0.1384 - acc: 1.0000\n",
      "Epoch 64/100\n",
      "750/750 [==============================] - 0s 20us/sample - loss: 0.1357 - acc: 1.0000\n",
      "Epoch 65/100\n",
      "750/750 [==============================] - 0s 20us/sample - loss: 0.1331 - acc: 1.0000\n",
      "Epoch 66/100\n",
      "750/750 [==============================] - 0s 19us/sample - loss: 0.1306 - acc: 1.0000\n",
      "Epoch 67/100\n",
      "750/750 [==============================] - 0s 19us/sample - loss: 0.1281 - acc: 1.0000\n",
      "Epoch 68/100\n",
      "750/750 [==============================] - 0s 20us/sample - loss: 0.1257 - acc: 1.0000\n",
      "Epoch 69/100\n",
      "750/750 [==============================] - 0s 19us/sample - loss: 0.1233 - acc: 1.0000\n",
      "Epoch 70/100\n",
      "750/750 [==============================] - 0s 20us/sample - loss: 0.1211 - acc: 1.0000\n",
      "Epoch 71/100\n",
      "750/750 [==============================] - 0s 20us/sample - loss: 0.1188 - acc: 1.0000\n",
      "Epoch 72/100\n",
      "750/750 [==============================] - 0s 20us/sample - loss: 0.1167 - acc: 1.0000\n",
      "Epoch 73/100\n",
      "750/750 [==============================] - 0s 20us/sample - loss: 0.1146 - acc: 1.0000\n",
      "Epoch 74/100\n",
      "750/750 [==============================] - 0s 20us/sample - loss: 0.1125 - acc: 1.0000\n",
      "Epoch 75/100\n",
      "750/750 [==============================] - 0s 19us/sample - loss: 0.1105 - acc: 1.0000\n",
      "Epoch 76/100\n",
      "750/750 [==============================] - 0s 19us/sample - loss: 0.1085 - acc: 1.0000\n",
      "Epoch 77/100\n",
      "750/750 [==============================] - 0s 19us/sample - loss: 0.1066 - acc: 1.0000\n",
      "Epoch 78/100\n",
      "750/750 [==============================] - 0s 20us/sample - loss: 0.1048 - acc: 1.0000\n",
      "Epoch 79/100\n",
      "750/750 [==============================] - 0s 21us/sample - loss: 0.1029 - acc: 1.0000\n",
      "Epoch 80/100\n",
      "750/750 [==============================] - 0s 20us/sample - loss: 0.1012 - acc: 1.0000\n",
      "Epoch 81/100\n",
      "750/750 [==============================] - 0s 19us/sample - loss: 0.0994 - acc: 1.0000\n",
      "Epoch 82/100\n",
      "750/750 [==============================] - 0s 19us/sample - loss: 0.0977 - acc: 1.0000\n",
      "Epoch 83/100\n",
      "750/750 [==============================] - 0s 20us/sample - loss: 0.0961 - acc: 1.0000\n",
      "Epoch 84/100\n",
      "750/750 [==============================] - 0s 20us/sample - loss: 0.0944 - acc: 1.0000\n",
      "Epoch 85/100\n",
      "750/750 [==============================] - 0s 20us/sample - loss: 0.0929 - acc: 1.0000\n",
      "Epoch 86/100\n",
      "750/750 [==============================] - 0s 20us/sample - loss: 0.0913 - acc: 1.0000\n",
      "Epoch 87/100\n",
      "750/750 [==============================] - 0s 20us/sample - loss: 0.0898 - acc: 1.0000\n",
      "Epoch 88/100\n",
      "750/750 [==============================] - 0s 20us/sample - loss: 0.0883 - acc: 1.0000\n",
      "Epoch 89/100\n",
      "750/750 [==============================] - 0s 19us/sample - loss: 0.0869 - acc: 1.0000\n",
      "Epoch 90/100\n",
      "750/750 [==============================] - 0s 20us/sample - loss: 0.0855 - acc: 1.0000\n",
      "Epoch 91/100\n",
      "750/750 [==============================] - 0s 20us/sample - loss: 0.0841 - acc: 1.0000\n",
      "Epoch 92/100\n",
      "750/750 [==============================] - 0s 20us/sample - loss: 0.0827 - acc: 1.0000\n",
      "Epoch 93/100\n",
      "750/750 [==============================] - 0s 20us/sample - loss: 0.0814 - acc: 1.0000\n",
      "Epoch 94/100\n",
      "750/750 [==============================] - 0s 20us/sample - loss: 0.0801 - acc: 1.0000\n",
      "Epoch 95/100\n",
      "750/750 [==============================] - 0s 21us/sample - loss: 0.0788 - acc: 1.0000\n",
      "Epoch 96/100\n",
      "750/750 [==============================] - 0s 19us/sample - loss: 0.0776 - acc: 1.0000\n",
      "Epoch 97/100\n",
      "750/750 [==============================] - 0s 20us/sample - loss: 0.0764 - acc: 1.0000\n",
      "Epoch 98/100\n",
      "750/750 [==============================] - 0s 20us/sample - loss: 0.0752 - acc: 1.0000\n",
      "Epoch 99/100\n",
      "750/750 [==============================] - 0s 20us/sample - loss: 0.0740 - acc: 1.0000\n",
      "Epoch 100/100\n",
      "750/750 [==============================] - 0s 20us/sample - loss: 0.0729 - acc: 1.0000\n"
     ]
    }
   ],
   "source": [
    "# Fit the model to the training data\n",
    "fit_model = nn_model.fit(X_train_scaled, y_train, epochs=100)"
   ]
  },
  {
   "cell_type": "code",
   "execution_count": 11,
   "metadata": {},
   "outputs": [],
   "source": [
    "# Create a DataFrame containing training history\n",
    "history_df = pd.DataFrame(fit_model.history, index=range(1,len(fit_model.history[\"loss\"])+1))"
   ]
  },
  {
   "cell_type": "code",
   "execution_count": 12,
   "metadata": {},
   "outputs": [
    {
     "data": {
      "text/plain": [
       "<matplotlib.axes._subplots.AxesSubplot at 0x21d0b41e648>"
      ]
     },
     "execution_count": 12,
     "metadata": {},
     "output_type": "execute_result"
    },
    {
     "data": {
      "image/png": "[encoded data removed]",
      "text/plain": [
       "<Figure size 432x288 with 1 Axes>"
      ]
     },
     "metadata": {
      "needs_background": "light"
     },
     "output_type": "display_data"
    }
   ],
   "source": [
    "# Plot the loss\n",
    "history_df.plot(y=\"loss\")"
   ]
  },
  {
   "cell_type": "code",
   "execution_count": 15,
   "metadata": {},
   "outputs": [
    {
     "ename": "KeyError",
     "evalue": "'Accuracy'",
     "output_type": "error",
     "traceback": [
      "\u001b[1;31m---------------------------------------------------------------------------\u001b[0m",
      "\u001b[1;31mKeyError\u001b[0m                                  Traceback (most recent call last)",
      "\u001b[1;32m~\\anaconda3\\envs\\pythondate\\lib\\site-packages\\pandas\\core\\indexes\\base.py\u001b[0m in \u001b[0;36mget_loc\u001b[1;34m(self, key, method, tolerance)\u001b[0m\n\u001b[0;32m   2645\u001b[0m             \u001b[1;32mtry\u001b[0m\u001b[1;33m:\u001b[0m\u001b[1;33m\u001b[0m\u001b[1;33m\u001b[0m\u001b[0m\n\u001b[1;32m-> 2646\u001b[1;33m                 \u001b[1;32mreturn\u001b[0m \u001b[0mself\u001b[0m\u001b[1;33m.\u001b[0m\u001b[0m_engine\u001b[0m\u001b[1;33m.\u001b[0m\u001b[0mget_loc\u001b[0m\u001b[1;33m(\u001b[0m\u001b[0mkey\u001b[0m\u001b[1;33m)\u001b[0m\u001b[1;33m\u001b[0m\u001b[1;33m\u001b[0m\u001b[0m\n\u001b[0m\u001b[0;32m   2647\u001b[0m             \u001b[1;32mexcept\u001b[0m \u001b[0mKeyError\u001b[0m\u001b[1;33m:\u001b[0m\u001b[1;33m\u001b[0m\u001b[1;33m\u001b[0m\u001b[0m\n",
      "\u001b[1;32mpandas\\_libs\\index.pyx\u001b[0m in \u001b[0;36mpandas._libs.index.IndexEngine.get_loc\u001b[1;34m()\u001b[0m\n",
      "\u001b[1;32mpandas\\_libs\\index.pyx\u001b[0m in \u001b[0;36mpandas._libs.index.IndexEngine.get_loc\u001b[1;34m()\u001b[0m\n",
      "\u001b[1;32mpandas\\_libs\\hashtable_class_helper.pxi\u001b[0m in \u001b[0;36mpandas._libs.hashtable.PyObjectHashTable.get_item\u001b[1;34m()\u001b[0m\n",
      "\u001b[1;32mpandas\\_libs\\hashtable_class_helper.pxi\u001b[0m in \u001b[0;36mpandas._libs.hashtable.PyObjectHashTable.get_item\u001b[1;34m()\u001b[0m\n",
      "\u001b[1;31mKeyError\u001b[0m: 'Accuracy'",
      "\nDuring handling of the above exception, another exception occurred:\n",
      "\u001b[1;31mKeyError\u001b[0m                                  Traceback (most recent call last)",
      "\u001b[1;32m<ipython-input-15-2a2e227c1bf9>\u001b[0m in \u001b[0;36m<module>\u001b[1;34m\u001b[0m\n\u001b[0;32m      1\u001b[0m \u001b[1;31m# Plot the accuracy\u001b[0m\u001b[1;33m\u001b[0m\u001b[1;33m\u001b[0m\u001b[1;33m\u001b[0m\u001b[0m\n\u001b[1;32m----> 2\u001b[1;33m \u001b[0mhistory_df\u001b[0m\u001b[1;33m.\u001b[0m\u001b[0mplot\u001b[0m\u001b[1;33m(\u001b[0m\u001b[0my\u001b[0m\u001b[1;33m=\u001b[0m\u001b[1;34m\"Accuracy\"\u001b[0m\u001b[1;33m)\u001b[0m\u001b[1;33m\u001b[0m\u001b[1;33m\u001b[0m\u001b[0m\n\u001b[0m",
      "\u001b[1;32m~\\anaconda3\\envs\\pythondate\\lib\\site-packages\\pandas\\plotting\\_core.py\u001b[0m in \u001b[0;36m__call__\u001b[1;34m(self, *args, **kwargs)\u001b[0m\n\u001b[0;32m    831\u001b[0m \u001b[1;33m\u001b[0m\u001b[0m\n\u001b[0;32m    832\u001b[0m                 \u001b[1;31m# don't overwrite\u001b[0m\u001b[1;33m\u001b[0m\u001b[1;33m\u001b[0m\u001b[1;33m\u001b[0m\u001b[0m\n\u001b[1;32m--> 833\u001b[1;33m                 \u001b[0mdata\u001b[0m \u001b[1;33m=\u001b[0m \u001b[0mdata\u001b[0m\u001b[1;33m[\u001b[0m\u001b[0my\u001b[0m\u001b[1;33m]\u001b[0m\u001b[1;33m.\u001b[0m\u001b[0mcopy\u001b[0m\u001b[1;33m(\u001b[0m\u001b[1;33m)\u001b[0m\u001b[1;33m\u001b[0m\u001b[1;33m\u001b[0m\u001b[0m\n\u001b[0m\u001b[0;32m    834\u001b[0m \u001b[1;33m\u001b[0m\u001b[0m\n\u001b[0;32m    835\u001b[0m                 \u001b[1;32mif\u001b[0m \u001b[0misinstance\u001b[0m\u001b[1;33m(\u001b[0m\u001b[0mdata\u001b[0m\u001b[1;33m,\u001b[0m \u001b[0mABCSeries\u001b[0m\u001b[1;33m)\u001b[0m\u001b[1;33m:\u001b[0m\u001b[1;33m\u001b[0m\u001b[1;33m\u001b[0m\u001b[0m\n",
      "\u001b[1;32m~\\anaconda3\\envs\\pythondate\\lib\\site-packages\\pandas\\core\\frame.py\u001b[0m in \u001b[0;36m__getitem__\u001b[1;34m(self, key)\u001b[0m\n\u001b[0;32m   2798\u001b[0m             \u001b[1;32mif\u001b[0m \u001b[0mself\u001b[0m\u001b[1;33m.\u001b[0m\u001b[0mcolumns\u001b[0m\u001b[1;33m.\u001b[0m\u001b[0mnlevels\u001b[0m \u001b[1;33m>\u001b[0m \u001b[1;36m1\u001b[0m\u001b[1;33m:\u001b[0m\u001b[1;33m\u001b[0m\u001b[1;33m\u001b[0m\u001b[0m\n\u001b[0;32m   2799\u001b[0m                 \u001b[1;32mreturn\u001b[0m \u001b[0mself\u001b[0m\u001b[1;33m.\u001b[0m\u001b[0m_getitem_multilevel\u001b[0m\u001b[1;33m(\u001b[0m\u001b[0mkey\u001b[0m\u001b[1;33m)\u001b[0m\u001b[1;33m\u001b[0m\u001b[1;33m\u001b[0m\u001b[0m\n\u001b[1;32m-> 2800\u001b[1;33m             \u001b[0mindexer\u001b[0m \u001b[1;33m=\u001b[0m \u001b[0mself\u001b[0m\u001b[1;33m.\u001b[0m\u001b[0mcolumns\u001b[0m\u001b[1;33m.\u001b[0m\u001b[0mget_loc\u001b[0m\u001b[1;33m(\u001b[0m\u001b[0mkey\u001b[0m\u001b[1;33m)\u001b[0m\u001b[1;33m\u001b[0m\u001b[1;33m\u001b[0m\u001b[0m\n\u001b[0m\u001b[0;32m   2801\u001b[0m             \u001b[1;32mif\u001b[0m \u001b[0mis_integer\u001b[0m\u001b[1;33m(\u001b[0m\u001b[0mindexer\u001b[0m\u001b[1;33m)\u001b[0m\u001b[1;33m:\u001b[0m\u001b[1;33m\u001b[0m\u001b[1;33m\u001b[0m\u001b[0m\n\u001b[0;32m   2802\u001b[0m                 \u001b[0mindexer\u001b[0m \u001b[1;33m=\u001b[0m \u001b[1;33m[\u001b[0m\u001b[0mindexer\u001b[0m\u001b[1;33m]\u001b[0m\u001b[1;33m\u001b[0m\u001b[1;33m\u001b[0m\u001b[0m\n",
      "\u001b[1;32m~\\anaconda3\\envs\\pythondate\\lib\\site-packages\\pandas\\core\\indexes\\base.py\u001b[0m in \u001b[0;36mget_loc\u001b[1;34m(self, key, method, tolerance)\u001b[0m\n\u001b[0;32m   2646\u001b[0m                 \u001b[1;32mreturn\u001b[0m \u001b[0mself\u001b[0m\u001b[1;33m.\u001b[0m\u001b[0m_engine\u001b[0m\u001b[1;33m.\u001b[0m\u001b[0mget_loc\u001b[0m\u001b[1;33m(\u001b[0m\u001b[0mkey\u001b[0m\u001b[1;33m)\u001b[0m\u001b[1;33m\u001b[0m\u001b[1;33m\u001b[0m\u001b[0m\n\u001b[0;32m   2647\u001b[0m             \u001b[1;32mexcept\u001b[0m \u001b[0mKeyError\u001b[0m\u001b[1;33m:\u001b[0m\u001b[1;33m\u001b[0m\u001b[1;33m\u001b[0m\u001b[0m\n\u001b[1;32m-> 2648\u001b[1;33m                 \u001b[1;32mreturn\u001b[0m \u001b[0mself\u001b[0m\u001b[1;33m.\u001b[0m\u001b[0m_engine\u001b[0m\u001b[1;33m.\u001b[0m\u001b[0mget_loc\u001b[0m\u001b[1;33m(\u001b[0m\u001b[0mself\u001b[0m\u001b[1;33m.\u001b[0m\u001b[0m_maybe_cast_indexer\u001b[0m\u001b[1;33m(\u001b[0m\u001b[0mkey\u001b[0m\u001b[1;33m)\u001b[0m\u001b[1;33m)\u001b[0m\u001b[1;33m\u001b[0m\u001b[1;33m\u001b[0m\u001b[0m\n\u001b[0m\u001b[0;32m   2649\u001b[0m         \u001b[0mindexer\u001b[0m \u001b[1;33m=\u001b[0m \u001b[0mself\u001b[0m\u001b[1;33m.\u001b[0m\u001b[0mget_indexer\u001b[0m\u001b[1;33m(\u001b[0m\u001b[1;33m[\u001b[0m\u001b[0mkey\u001b[0m\u001b[1;33m]\u001b[0m\u001b[1;33m,\u001b[0m \u001b[0mmethod\u001b[0m\u001b[1;33m=\u001b[0m\u001b[0mmethod\u001b[0m\u001b[1;33m,\u001b[0m \u001b[0mtolerance\u001b[0m\u001b[1;33m=\u001b[0m\u001b[0mtolerance\u001b[0m\u001b[1;33m)\u001b[0m\u001b[1;33m\u001b[0m\u001b[1;33m\u001b[0m\u001b[0m\n\u001b[0;32m   2650\u001b[0m         \u001b[1;32mif\u001b[0m \u001b[0mindexer\u001b[0m\u001b[1;33m.\u001b[0m\u001b[0mndim\u001b[0m \u001b[1;33m>\u001b[0m \u001b[1;36m1\u001b[0m \u001b[1;32mor\u001b[0m \u001b[0mindexer\u001b[0m\u001b[1;33m.\u001b[0m\u001b[0msize\u001b[0m \u001b[1;33m>\u001b[0m \u001b[1;36m1\u001b[0m\u001b[1;33m:\u001b[0m\u001b[1;33m\u001b[0m\u001b[1;33m\u001b[0m\u001b[0m\n",
      "\u001b[1;32mpandas\\_libs\\index.pyx\u001b[0m in \u001b[0;36mpandas._libs.index.IndexEngine.get_loc\u001b[1;34m()\u001b[0m\n",
      "\u001b[1;32mpandas\\_libs\\index.pyx\u001b[0m in \u001b[0;36mpandas._libs.index.IndexEngine.get_loc\u001b[1;34m()\u001b[0m\n",
      "\u001b[1;32mpandas\\_libs\\hashtable_class_helper.pxi\u001b[0m in \u001b[0;36mpandas._libs.hashtable.PyObjectHashTable.get_item\u001b[1;34m()\u001b[0m\n",
      "\u001b[1;32mpandas\\_libs\\hashtable_class_helper.pxi\u001b[0m in \u001b[0;36mpandas._libs.hashtable.PyObjectHashTable.get_item\u001b[1;34m()\u001b[0m\n",
      "\u001b[1;31mKeyError\u001b[0m: 'Accuracy'"
     ]
    }
   ],
   "source": [
    "# Plot the accuracy\n",
    "history_df.plot(y=\"Accuracy\")"
   ]
  },
  {
   "cell_type": "code",
   "execution_count": 14,
   "metadata": {},
   "outputs": [
    {
     "name": "stdout",
     "output_type": "stream",
     "text": [
      "250/250 - 0s - loss: 0.0736 - acc: 1.0000\n",
      "Loss: 0.07358077710866928, Accuracy: 1.0\n"
     ]
    }
   ],
   "source": [
    "# Evaluate the model using the test data\n",
    "model_loss, model_accuracy = nn_model.evaluate(X_test_scaled,y_test,verbose=2)\n",
    "print(f\"Loss: {model_loss}, Accuracy: {model_accuracy}\")"
   ]
  },
  {
   "cell_type": "code",
   "execution_count": 16,
   "metadata": {},
   "outputs": [
    {
     "data": {
      "text/plain": [
       "array([[0],\n",
       "       [1],\n",
       "       [0],\n",
       "       [1],\n",
       "       [0],\n",
       "       [0],\n",
       "       [1],\n",
       "       [1],\n",
       "       [1],\n",
       "       [0]])"
      ]
     },
     "execution_count": 16,
     "metadata": {},
     "output_type": "execute_result"
    }
   ],
   "source": [
    "# Predict the classification of a new set of blob data\n",
    "new_X, new_Y = make_blobs(n_samples=10, centers=2, n_features=2, random_state=78)\n",
    "new_X_scaled = X_scaler.transform(new_X)\n",
    "nn_model.predict_classes(new_X_scaled)"
   ]
  },
  {
   "cell_type": "code",
   "execution_count": 17,
   "metadata": {},
   "outputs": [
    {
     "data": {
      "text/plain": [
       "<matplotlib.axes._subplots.AxesSubplot at 0x21d0b7527c8>"
      ]
     },
     "execution_count": 17,
     "metadata": {},
     "output_type": "execute_result"
    },
    {
     "data": {
      "image/png": "[encoded data removed]",
      "text/plain": [
       "<Figure size 432x288 with 2 Axes>"
      ]
     },
     "metadata": {
      "needs_background": "light"
     },
     "output_type": "display_data"
    }
   ],
   "source": [
    "from sklearn.datasets import make_moons\n",
    "\n",
    "# Creating dummy nonlinear data\n",
    "X_moons, y_moons = make_moons(n_samples=1000, noise=0.08, random_state=78)\n",
    "\n",
    "# Transforming y_moons to a vertical vector\n",
    "y_moons = y_moons.reshape(-1, 1)\n",
    "\n",
    "# Creating a DataFrame to plot the nonlinear dummy data\n",
    "df_moons = pd.DataFrame(X_moons, columns=[\"Feature 1\", \"Feature 2\"])\n",
    "df_moons[\"Target\"] = y_moons\n",
    "\n",
    "# Plot the nonlinear dummy data\n",
    "df_moons.plot.scatter(x=\"Feature 1\",y=\"Feature 2\", c=\"Target\",colormap=\"winter\")"
   ]
  },
  {
   "cell_type": "code",
   "execution_count": 18,
   "metadata": {},
   "outputs": [],
   "source": [
    "# Create training and testing sets\n",
    "X_moon_train, X_moon_test, y_moon_train, y_moon_test = train_test_split(\n",
    "    X_moons, y_moons, random_state=78\n",
    ")\n",
    "\n",
    "# Create the scaler instance\n",
    "X_moon_scaler = skl.preprocessing.StandardScaler()\n",
    "\n",
    "# Fit the scaler\n",
    "X_moon_scaler.fit(X_moon_train)\n",
    "\n",
    "# Scale the data\n",
    "X_moon_train_scaled = X_moon_scaler.transform(X_moon_train)\n",
    "X_moon_test_scaled = X_moon_scaler.transform(X_moon_test)"
   ]
  },
  {
   "cell_type": "code",
   "execution_count": 19,
   "metadata": {},
   "outputs": [
    {
     "name": "stdout",
     "output_type": "stream",
     "text": [
      "Epoch 1/100\n",
      "750/750 [==============================] - 0s 27us/sample - loss: 1.1232 - acc: 0.4547\n",
      "Epoch 2/100\n",
      "750/750 [==============================] - 0s 24us/sample - loss: 1.0224 - acc: 0.4720\n",
      "Epoch 3/100\n",
      "750/750 [==============================] - 0s 21us/sample - loss: 0.9485 - acc: 0.4880\n",
      "Epoch 4/100\n",
      "750/750 [==============================] - 0s 21us/sample - loss: 0.8986 - acc: 0.4987\n",
      "Epoch 5/100\n",
      "750/750 [==============================] - 0s 23us/sample - loss: 0.8594 - acc: 0.5053\n",
      "Epoch 6/100\n",
      "750/750 [==============================] - 0s 22us/sample - loss: 0.8279 - acc: 0.5160\n",
      "Epoch 7/100\n",
      "750/750 [==============================] - 0s 27us/sample - loss: 0.8013 - acc: 0.5253\n",
      "Epoch 8/100\n",
      "750/750 [==============================] - 0s 25us/sample - loss: 0.7779 - acc: 0.5320\n",
      "Epoch 9/100\n",
      "750/750 [==============================] - 0s 28us/sample - loss: 0.7573 - acc: 0.5387\n",
      "Epoch 10/100\n",
      "750/750 [==============================] - 0s 23us/sample - loss: 0.7383 - acc: 0.5480\n",
      "Epoch 11/100\n",
      "750/750 [==============================] - 0s 22us/sample - loss: 0.7211 - acc: 0.5533\n",
      "Epoch 12/100\n",
      "750/750 [==============================] - 0s 21us/sample - loss: 0.7051 - acc: 0.5613\n",
      "Epoch 13/100\n",
      "750/750 [==============================] - 0s 23us/sample - loss: 0.6904 - acc: 0.5707\n",
      "Epoch 14/100\n",
      "750/750 [==============================] - 0s 23us/sample - loss: 0.6768 - acc: 0.5760\n",
      "Epoch 15/100\n",
      "750/750 [==============================] - 0s 23us/sample - loss: 0.6639 - acc: 0.5813\n",
      "Epoch 16/100\n",
      "750/750 [==============================] - 0s 24us/sample - loss: 0.6517 - acc: 0.5853\n",
      "Epoch 17/100\n",
      "750/750 [==============================] - 0s 21us/sample - loss: 0.6404 - acc: 0.5907\n",
      "Epoch 18/100\n",
      "750/750 [==============================] - 0s 21us/sample - loss: 0.6294 - acc: 0.5960\n",
      "Epoch 19/100\n",
      "750/750 [==============================] - 0s 21us/sample - loss: 0.6193 - acc: 0.6040\n",
      "Epoch 20/100\n",
      "750/750 [==============================] - 0s 23us/sample - loss: 0.6095 - acc: 0.6093\n",
      "Epoch 21/100\n",
      "750/750 [==============================] - 0s 23us/sample - loss: 0.6004 - acc: 0.6120\n",
      "Epoch 22/100\n",
      "750/750 [==============================] - 0s 24us/sample - loss: 0.5916 - acc: 0.6227\n",
      "Epoch 23/100\n",
      "750/750 [==============================] - 0s 24us/sample - loss: 0.5832 - acc: 0.6267\n",
      "Epoch 24/100\n",
      "750/750 [==============================] - 0s 21us/sample - loss: 0.5754 - acc: 0.6307\n",
      "Epoch 25/100\n",
      "750/750 [==============================] - 0s 21us/sample - loss: 0.5679 - acc: 0.6347\n",
      "Epoch 26/100\n",
      "750/750 [==============================] - 0s 23us/sample - loss: 0.5605 - acc: 0.6427\n",
      "Epoch 27/100\n",
      "750/750 [==============================] - 0s 23us/sample - loss: 0.5536 - acc: 0.6493\n",
      "Epoch 28/100\n",
      "750/750 [==============================] - 0s 20us/sample - loss: 0.5470 - acc: 0.6507\n",
      "Epoch 29/100\n",
      "750/750 [==============================] - 0s 20us/sample - loss: 0.5406 - acc: 0.6533\n",
      "Epoch 30/100\n",
      "750/750 [==============================] - 0s 20us/sample - loss: 0.5344 - acc: 0.6600\n",
      "Epoch 31/100\n",
      "750/750 [==============================] - 0s 20us/sample - loss: 0.5284 - acc: 0.6667\n",
      "Epoch 32/100\n",
      "750/750 [==============================] - 0s 20us/sample - loss: 0.5228 - acc: 0.6707\n",
      "Epoch 33/100\n",
      "750/750 [==============================] - 0s 21us/sample - loss: 0.5171 - acc: 0.6747\n",
      "Epoch 34/100\n",
      "750/750 [==============================] - 0s 20us/sample - loss: 0.5115 - acc: 0.6787\n",
      "Epoch 35/100\n",
      "750/750 [==============================] - 0s 21us/sample - loss: 0.5061 - acc: 0.6853\n",
      "Epoch 36/100\n",
      "750/750 [==============================] - 0s 20us/sample - loss: 0.5009 - acc: 0.6893\n",
      "Epoch 37/100\n",
      "750/750 [==============================] - 0s 21us/sample - loss: 0.4958 - acc: 0.6933\n",
      "Epoch 38/100\n",
      "750/750 [==============================] - 0s 21us/sample - loss: 0.4908 - acc: 0.6987\n",
      "Epoch 39/100\n",
      "750/750 [==============================] - 0s 21us/sample - loss: 0.4859 - acc: 0.7013\n",
      "Epoch 40/100\n",
      "750/750 [==============================] - 0s 21us/sample - loss: 0.4811 - acc: 0.7053\n",
      "Epoch 41/100\n",
      "750/750 [==============================] - 0s 23us/sample - loss: 0.4764 - acc: 0.7080\n",
      "Epoch 42/100\n",
      "750/750 [==============================] - 0s 23us/sample - loss: 0.4718 - acc: 0.7093\n",
      "Epoch 43/100\n",
      "750/750 [==============================] - 0s 23us/sample - loss: 0.4671 - acc: 0.7147\n",
      "Epoch 44/100\n",
      "750/750 [==============================] - 0s 21us/sample - loss: 0.4626 - acc: 0.7187\n",
      "Epoch 45/100\n",
      "750/750 [==============================] - 0s 33us/sample - loss: 0.4581 - acc: 0.7267\n",
      "Epoch 46/100\n",
      "750/750 [==============================] - 0s 23us/sample - loss: 0.4536 - acc: 0.7293\n",
      "Epoch 47/100\n",
      "750/750 [==============================] - 0s 23us/sample - loss: 0.4492 - acc: 0.7307\n",
      "Epoch 48/100\n",
      "750/750 [==============================] - 0s 23us/sample - loss: 0.4448 - acc: 0.7387\n",
      "Epoch 49/100\n",
      "750/750 [==============================] - 0s 23us/sample - loss: 0.4406 - acc: 0.7480\n",
      "Epoch 50/100\n",
      "750/750 [==============================] - 0s 23us/sample - loss: 0.4364 - acc: 0.7493\n",
      "Epoch 51/100\n",
      "750/750 [==============================] - 0s 23us/sample - loss: 0.4322 - acc: 0.7507\n",
      "Epoch 52/100\n",
      "750/750 [==============================] - 0s 23us/sample - loss: 0.4280 - acc: 0.7560\n",
      "Epoch 53/100\n",
      "750/750 [==============================] - 0s 21us/sample - loss: 0.4240 - acc: 0.7600\n",
      "Epoch 54/100\n",
      "750/750 [==============================] - 0s 23us/sample - loss: 0.4199 - acc: 0.7600\n",
      "Epoch 55/100\n",
      "750/750 [==============================] - 0s 21us/sample - loss: 0.4158 - acc: 0.7600\n",
      "Epoch 56/100\n",
      "750/750 [==============================] - 0s 29us/sample - loss: 0.4117 - acc: 0.7653\n",
      "Epoch 57/100\n",
      "750/750 [==============================] - 0s 26us/sample - loss: 0.4077 - acc: 0.7680\n",
      "Epoch 58/100\n",
      "750/750 [==============================] - 0s 24us/sample - loss: 0.4037 - acc: 0.7733\n",
      "Epoch 59/100\n",
      "750/750 [==============================] - 0s 23us/sample - loss: 0.3997 - acc: 0.7773\n",
      "Epoch 60/100\n",
      "750/750 [==============================] - 0s 21us/sample - loss: 0.3958 - acc: 0.7813\n",
      "Epoch 61/100\n",
      "750/750 [==============================] - 0s 20us/sample - loss: 0.3920 - acc: 0.7893\n",
      "Epoch 62/100\n",
      "750/750 [==============================] - 0s 20us/sample - loss: 0.3882 - acc: 0.7973\n",
      "Epoch 63/100\n",
      "750/750 [==============================] - 0s 21us/sample - loss: 0.3844 - acc: 0.8027\n",
      "Epoch 64/100\n",
      "750/750 [==============================] - 0s 21us/sample - loss: 0.3808 - acc: 0.8053\n",
      "Epoch 65/100\n",
      "750/750 [==============================] - 0s 20us/sample - loss: 0.3773 - acc: 0.8067\n",
      "Epoch 66/100\n",
      "750/750 [==============================] - 0s 21us/sample - loss: 0.3737 - acc: 0.8080\n",
      "Epoch 67/100\n",
      "750/750 [==============================] - 0s 20us/sample - loss: 0.3704 - acc: 0.8093\n",
      "Epoch 68/100\n",
      "750/750 [==============================] - 0s 21us/sample - loss: 0.3669 - acc: 0.8107\n",
      "Epoch 69/100\n",
      "750/750 [==============================] - 0s 23us/sample - loss: 0.3637 - acc: 0.8147\n",
      "Epoch 70/100\n",
      "750/750 [==============================] - 0s 21us/sample - loss: 0.3605 - acc: 0.8160\n",
      "Epoch 71/100\n",
      "750/750 [==============================] - 0s 21us/sample - loss: 0.3574 - acc: 0.8213\n",
      "Epoch 72/100\n",
      "750/750 [==============================] - 0s 22us/sample - loss: 0.3543 - acc: 0.8227\n",
      "Epoch 73/100\n",
      "750/750 [==============================] - 0s 21us/sample - loss: 0.3513 - acc: 0.8227\n",
      "Epoch 74/100\n",
      "750/750 [==============================] - 0s 21us/sample - loss: 0.3484 - acc: 0.8227\n",
      "Epoch 75/100\n",
      "750/750 [==============================] - 0s 21us/sample - loss: 0.3456 - acc: 0.8227\n",
      "Epoch 76/100\n",
      "750/750 [==============================] - 0s 23us/sample - loss: 0.3429 - acc: 0.8240\n",
      "Epoch 77/100\n",
      "750/750 [==============================] - 0s 23us/sample - loss: 0.3401 - acc: 0.8253\n",
      "Epoch 78/100\n",
      "750/750 [==============================] - 0s 21us/sample - loss: 0.3375 - acc: 0.8267\n",
      "Epoch 79/100\n",
      "750/750 [==============================] - 0s 23us/sample - loss: 0.3349 - acc: 0.8280\n",
      "Epoch 80/100\n",
      "750/750 [==============================] - 0s 28us/sample - loss: 0.3325 - acc: 0.8293\n",
      "Epoch 81/100\n",
      "750/750 [==============================] - 0s 28us/sample - loss: 0.3300 - acc: 0.8293\n",
      "Epoch 82/100\n",
      "750/750 [==============================] - 0s 28us/sample - loss: 0.3277 - acc: 0.8307\n",
      "Epoch 83/100\n"
     ]
    },
    {
     "name": "stdout",
     "output_type": "stream",
     "text": [
      "750/750 [==============================] - 0s 39us/sample - loss: 0.3255 - acc: 0.8333\n",
      "Epoch 84/100\n",
      "750/750 [==============================] - 0s 23us/sample - loss: 0.3231 - acc: 0.8373\n",
      "Epoch 85/100\n",
      "750/750 [==============================] - 0s 21us/sample - loss: 0.3210 - acc: 0.8373\n",
      "Epoch 86/100\n",
      "750/750 [==============================] - 0s 21us/sample - loss: 0.3187 - acc: 0.8400\n",
      "Epoch 87/100\n",
      "750/750 [==============================] - 0s 23us/sample - loss: 0.3167 - acc: 0.8413\n",
      "Epoch 88/100\n",
      "750/750 [==============================] - 0s 21us/sample - loss: 0.3147 - acc: 0.8440\n",
      "Epoch 89/100\n",
      "750/750 [==============================] - 0s 24us/sample - loss: 0.3127 - acc: 0.8453\n",
      "Epoch 90/100\n",
      "750/750 [==============================] - 0s 23us/sample - loss: 0.3108 - acc: 0.8480\n",
      "Epoch 91/100\n",
      "750/750 [==============================] - 0s 23us/sample - loss: 0.3090 - acc: 0.8507\n",
      "Epoch 92/100\n",
      "750/750 [==============================] - 0s 23us/sample - loss: 0.3071 - acc: 0.8507\n",
      "Epoch 93/100\n",
      "750/750 [==============================] - 0s 27us/sample - loss: 0.3055 - acc: 0.8547\n",
      "Epoch 94/100\n",
      "750/750 [==============================] - 0s 24us/sample - loss: 0.3037 - acc: 0.8560\n",
      "Epoch 95/100\n",
      "750/750 [==============================] - 0s 23us/sample - loss: 0.3021 - acc: 0.8560\n",
      "Epoch 96/100\n",
      "750/750 [==============================] - 0s 25us/sample - loss: 0.3005 - acc: 0.8573\n",
      "Epoch 97/100\n",
      "750/750 [==============================] - 0s 24us/sample - loss: 0.2989 - acc: 0.8587\n",
      "Epoch 98/100\n",
      "750/750 [==============================] - 0s 27us/sample - loss: 0.2973 - acc: 0.8600\n",
      "Epoch 99/100\n",
      "750/750 [==============================] - 0s 25us/sample - loss: 0.2959 - acc: 0.8613\n",
      "Epoch 100/100\n",
      "750/750 [==============================] - 0s 25us/sample - loss: 0.2944 - acc: 0.8653\n"
     ]
    }
   ],
   "source": [
    "# Training the model with the nonlinear data\n",
    "model_moon = nn_model.fit(X_moon_train_scaled, y_moon_train, epochs=100, shuffle=True)"
   ]
  },
  {
   "cell_type": "code",
   "execution_count": 20,
   "metadata": {},
   "outputs": [
    {
     "data": {
      "text/plain": [
       "<matplotlib.axes._subplots.AxesSubplot at 0x21d0b806d08>"
      ]
     },
     "execution_count": 20,
     "metadata": {},
     "output_type": "execute_result"
    },
    {
     "data": {
      "image/png": "[encoded data removed]",
      "text/plain": [
       "<Figure size 432x288 with 1 Axes>"
      ]
     },
     "metadata": {
      "needs_background": "light"
     },
     "output_type": "display_data"
    }
   ],
   "source": [
    "# Create a DataFrame containing training history\n",
    "history_df = pd.DataFrame(model_moon.history, index=range(1,len(model_moon.history[\"loss\"])+1))\n",
    "\n",
    "# Plot the loss\n",
    "history_df.plot(y=\"loss\")"
   ]
  },
  {
   "cell_type": "code",
   "execution_count": 25,
   "metadata": {},
   "outputs": [
    {
     "data": {
      "text/plain": [
       "<matplotlib.axes._subplots.AxesSubplot at 0x21d0cbe5108>"
      ]
     },
     "execution_count": 25,
     "metadata": {},
     "output_type": "execute_result"
    },
    {
     "data": {
      "image/png": "[encoded data removed]",
      "text/plain": [
       "<Figure size 432x288 with 1 Axes>"
      ]
     },
     "metadata": {
      "needs_background": "light"
     },
     "output_type": "display_data"
    }
   ],
   "source": [
    "# Plot the loss\n",
    "history_df.plot(y=\"acc\")"
   ]
  },
  {
   "cell_type": "code",
   "execution_count": 22,
   "metadata": {},
   "outputs": [],
   "source": [
    "# Generate our new Sequential model\n",
    "new_model = tf.keras.models.Sequential()"
   ]
  },
  {
   "cell_type": "code",
   "execution_count": 23,
   "metadata": {},
   "outputs": [],
   "source": [
    "# Add the input and hidden layer\n",
    "number_inputs = 2\n",
    "number_hidden_nodes = 6\n",
    "\n",
    "new_model.add(tf.keras.layers.Dense(units=number_hidden_nodes, activation=\"relu\", input_dim=number_inputs))\n",
    "\n",
    "# Add the output layer that uses a probability activation function\n",
    "new_model.add(tf.keras.layers.Dense(units=1, activation=\"sigmoid\"))"
   ]
  },
  {
   "cell_type": "code",
   "execution_count": 24,
   "metadata": {},
   "outputs": [
    {
     "name": "stdout",
     "output_type": "stream",
     "text": [
      "Epoch 1/100\n",
      "750/750 [==============================] - 0s 117us/sample - loss: 0.7101 - acc: 0.4667\n",
      "Epoch 2/100\n",
      "750/750 [==============================] - 0s 23us/sample - loss: 0.6756 - acc: 0.5440\n",
      "Epoch 3/100\n",
      "750/750 [==============================] - 0s 25us/sample - loss: 0.6423 - acc: 0.6520\n",
      "Epoch 4/100\n",
      "750/750 [==============================] - 0s 23us/sample - loss: 0.6101 - acc: 0.7173\n",
      "Epoch 5/100\n",
      "750/750 [==============================] - 0s 23us/sample - loss: 0.5786 - acc: 0.7813\n",
      "Epoch 6/100\n",
      "750/750 [==============================] - 0s 23us/sample - loss: 0.5492 - acc: 0.8253\n",
      "Epoch 7/100\n",
      "750/750 [==============================] - 0s 24us/sample - loss: 0.5207 - acc: 0.8427\n",
      "Epoch 8/100\n",
      "750/750 [==============================] - 0s 23us/sample - loss: 0.4943 - acc: 0.8493\n",
      "Epoch 9/100\n",
      "750/750 [==============================] - 0s 23us/sample - loss: 0.4689 - acc: 0.8600\n",
      "Epoch 10/100\n",
      "750/750 [==============================] - 0s 23us/sample - loss: 0.4456 - acc: 0.8627\n",
      "Epoch 11/100\n",
      "750/750 [==============================] - 0s 24us/sample - loss: 0.4243 - acc: 0.8707\n",
      "Epoch 12/100\n",
      "750/750 [==============================] - 0s 22us/sample - loss: 0.4050 - acc: 0.8747\n",
      "Epoch 13/100\n",
      "750/750 [==============================] - 0s 23us/sample - loss: 0.3874 - acc: 0.8747\n",
      "Epoch 14/100\n",
      "750/750 [==============================] - 0s 22us/sample - loss: 0.3720 - acc: 0.8747\n",
      "Epoch 15/100\n",
      "750/750 [==============================] - 0s 23us/sample - loss: 0.3580 - acc: 0.8733\n",
      "Epoch 16/100\n",
      "750/750 [==============================] - 0s 24us/sample - loss: 0.3456 - acc: 0.8760\n",
      "Epoch 17/100\n",
      "750/750 [==============================] - 0s 23us/sample - loss: 0.3345 - acc: 0.8773\n",
      "Epoch 18/100\n",
      "750/750 [==============================] - 0s 27us/sample - loss: 0.3246 - acc: 0.8813\n",
      "Epoch 19/100\n",
      "750/750 [==============================] - 0s 23us/sample - loss: 0.3158 - acc: 0.8840\n",
      "Epoch 20/100\n",
      "750/750 [==============================] - 0s 24us/sample - loss: 0.3077 - acc: 0.8853\n",
      "Epoch 21/100\n",
      "750/750 [==============================] - 0s 23us/sample - loss: 0.3005 - acc: 0.8867\n",
      "Epoch 22/100\n",
      "750/750 [==============================] - 0s 24us/sample - loss: 0.2941 - acc: 0.8893\n",
      "Epoch 23/100\n",
      "750/750 [==============================] - 0s 23us/sample - loss: 0.2882 - acc: 0.8907\n",
      "Epoch 24/100\n",
      "750/750 [==============================] - 0s 25us/sample - loss: 0.2826 - acc: 0.8933\n",
      "Epoch 25/100\n",
      "750/750 [==============================] - 0s 24us/sample - loss: 0.2778 - acc: 0.8947\n",
      "Epoch 26/100\n",
      "750/750 [==============================] - 0s 23us/sample - loss: 0.2734 - acc: 0.8947\n",
      "Epoch 27/100\n",
      "750/750 [==============================] - 0s 23us/sample - loss: 0.2695 - acc: 0.8947\n",
      "Epoch 28/100\n",
      "750/750 [==============================] - 0s 21us/sample - loss: 0.2657 - acc: 0.8947\n",
      "Epoch 29/100\n",
      "750/750 [==============================] - 0s 24us/sample - loss: 0.2624 - acc: 0.8960\n",
      "Epoch 30/100\n",
      "750/750 [==============================] - 0s 22us/sample - loss: 0.2594 - acc: 0.8960\n",
      "Epoch 31/100\n",
      "750/750 [==============================] - 0s 21us/sample - loss: 0.2568 - acc: 0.8987\n",
      "Epoch 32/100\n",
      "750/750 [==============================] - 0s 23us/sample - loss: 0.2542 - acc: 0.8987\n",
      "Epoch 33/100\n",
      "750/750 [==============================] - 0s 23us/sample - loss: 0.2521 - acc: 0.8987\n",
      "Epoch 34/100\n",
      "750/750 [==============================] - 0s 24us/sample - loss: 0.2499 - acc: 0.9013\n",
      "Epoch 35/100\n",
      "750/750 [==============================] - 0s 23us/sample - loss: 0.2480 - acc: 0.9027\n",
      "Epoch 36/100\n",
      "750/750 [==============================] - 0s 35us/sample - loss: 0.2460 - acc: 0.9027\n",
      "Epoch 37/100\n",
      "750/750 [==============================] - 0s 24us/sample - loss: 0.2444 - acc: 0.9053\n",
      "Epoch 38/100\n",
      "750/750 [==============================] - 0s 23us/sample - loss: 0.2428 - acc: 0.9067\n",
      "Epoch 39/100\n",
      "750/750 [==============================] - 0s 26us/sample - loss: 0.2414 - acc: 0.9053\n",
      "Epoch 40/100\n",
      "750/750 [==============================] - 0s 23us/sample - loss: 0.2401 - acc: 0.9067\n",
      "Epoch 41/100\n",
      "750/750 [==============================] - 0s 23us/sample - loss: 0.2390 - acc: 0.9093\n",
      "Epoch 42/100\n",
      "750/750 [==============================] - 0s 23us/sample - loss: 0.2378 - acc: 0.9093\n",
      "Epoch 43/100\n",
      "750/750 [==============================] - 0s 23us/sample - loss: 0.2367 - acc: 0.9067\n",
      "Epoch 44/100\n",
      "750/750 [==============================] - 0s 23us/sample - loss: 0.2356 - acc: 0.9067\n",
      "Epoch 45/100\n",
      "750/750 [==============================] - 0s 22us/sample - loss: 0.2347 - acc: 0.9053\n",
      "Epoch 46/100\n",
      "750/750 [==============================] - 0s 23us/sample - loss: 0.2337 - acc: 0.9067\n",
      "Epoch 47/100\n",
      "750/750 [==============================] - 0s 23us/sample - loss: 0.2329 - acc: 0.9053\n",
      "Epoch 48/100\n",
      "750/750 [==============================] - 0s 23us/sample - loss: 0.2320 - acc: 0.9040\n",
      "Epoch 49/100\n",
      "750/750 [==============================] - 0s 23us/sample - loss: 0.2312 - acc: 0.9053\n",
      "Epoch 50/100\n",
      "750/750 [==============================] - 0s 23us/sample - loss: 0.2306 - acc: 0.9067\n",
      "Epoch 51/100\n",
      "750/750 [==============================] - 0s 23us/sample - loss: 0.2297 - acc: 0.9053\n",
      "Epoch 52/100\n",
      "750/750 [==============================] - 0s 23us/sample - loss: 0.2290 - acc: 0.9067\n",
      "Epoch 53/100\n",
      "750/750 [==============================] - 0s 23us/sample - loss: 0.2283 - acc: 0.9067\n",
      "Epoch 54/100\n",
      "750/750 [==============================] - 0s 22us/sample - loss: 0.2277 - acc: 0.9067\n",
      "Epoch 55/100\n",
      "750/750 [==============================] - 0s 23us/sample - loss: 0.2270 - acc: 0.9067\n",
      "Epoch 56/100\n",
      "750/750 [==============================] - 0s 23us/sample - loss: 0.2265 - acc: 0.9067\n",
      "Epoch 57/100\n",
      "750/750 [==============================] - 0s 23us/sample - loss: 0.2259 - acc: 0.9080\n",
      "Epoch 58/100\n",
      "750/750 [==============================] - 0s 22us/sample - loss: 0.2251 - acc: 0.9067\n",
      "Epoch 59/100\n",
      "750/750 [==============================] - 0s 23us/sample - loss: 0.2245 - acc: 0.9080\n",
      "Epoch 60/100\n",
      "750/750 [==============================] - 0s 21us/sample - loss: 0.2240 - acc: 0.9093\n",
      "Epoch 61/100\n",
      "750/750 [==============================] - 0s 21us/sample - loss: 0.2235 - acc: 0.9093\n",
      "Epoch 62/100\n",
      "750/750 [==============================] - 0s 21us/sample - loss: 0.2229 - acc: 0.9093\n",
      "Epoch 63/100\n",
      "750/750 [==============================] - 0s 21us/sample - loss: 0.2224 - acc: 0.9093\n",
      "Epoch 64/100\n",
      "750/750 [==============================] - 0s 22us/sample - loss: 0.2219 - acc: 0.9093\n",
      "Epoch 65/100\n",
      "750/750 [==============================] - 0s 21us/sample - loss: 0.2213 - acc: 0.9093\n",
      "Epoch 66/100\n",
      "750/750 [==============================] - 0s 21us/sample - loss: 0.2209 - acc: 0.9093\n",
      "Epoch 67/100\n",
      "750/750 [==============================] - 0s 20us/sample - loss: 0.2204 - acc: 0.9093\n",
      "Epoch 68/100\n",
      "750/750 [==============================] - 0s 20us/sample - loss: 0.2200 - acc: 0.9080\n",
      "Epoch 69/100\n",
      "750/750 [==============================] - 0s 20us/sample - loss: 0.2194 - acc: 0.9107\n",
      "Epoch 70/100\n",
      "750/750 [==============================] - 0s 22us/sample - loss: 0.2191 - acc: 0.9080\n",
      "Epoch 71/100\n",
      "750/750 [==============================] - 0s 20us/sample - loss: 0.2185 - acc: 0.9093\n",
      "Epoch 72/100\n",
      "750/750 [==============================] - 0s 21us/sample - loss: 0.2181 - acc: 0.9080\n",
      "Epoch 73/100\n",
      "750/750 [==============================] - ETA: 0s - loss: 0.2699 - acc: 0.906 - 0s 21us/sample - loss: 0.2179 - acc: 0.9067\n",
      "Epoch 74/100\n",
      "750/750 [==============================] - 0s 21us/sample - loss: 0.2172 - acc: 0.9067\n",
      "Epoch 75/100\n",
      "750/750 [==============================] - 0s 23us/sample - loss: 0.2169 - acc: 0.9067\n",
      "Epoch 76/100\n",
      "750/750 [==============================] - 0s 21us/sample - loss: 0.2164 - acc: 0.9067\n",
      "Epoch 77/100\n",
      "750/750 [==============================] - 0s 21us/sample - loss: 0.2160 - acc: 0.9080\n",
      "Epoch 78/100\n",
      "750/750 [==============================] - 0s 21us/sample - loss: 0.2157 - acc: 0.9053\n",
      "Epoch 79/100\n",
      "750/750 [==============================] - 0s 23us/sample - loss: 0.2153 - acc: 0.9067\n",
      "Epoch 80/100\n",
      "750/750 [==============================] - 0s 23us/sample - loss: 0.2149 - acc: 0.9067\n",
      "Epoch 81/100\n",
      "750/750 [==============================] - 0s 21us/sample - loss: 0.2147 - acc: 0.9040\n",
      "Epoch 82/100\n"
     ]
    },
    {
     "name": "stdout",
     "output_type": "stream",
     "text": [
      "750/750 [==============================] - 0s 22us/sample - loss: 0.2144 - acc: 0.9053\n",
      "Epoch 83/100\n",
      "750/750 [==============================] - 0s 21us/sample - loss: 0.2140 - acc: 0.9040\n",
      "Epoch 84/100\n",
      "750/750 [==============================] - 0s 23us/sample - loss: 0.2136 - acc: 0.9053\n",
      "Epoch 85/100\n",
      "750/750 [==============================] - 0s 23us/sample - loss: 0.2133 - acc: 0.9067\n",
      "Epoch 86/100\n",
      "750/750 [==============================] - 0s 23us/sample - loss: 0.2131 - acc: 0.9067\n",
      "Epoch 87/100\n",
      "750/750 [==============================] - 0s 22us/sample - loss: 0.2129 - acc: 0.9067\n",
      "Epoch 88/100\n",
      "750/750 [==============================] - 0s 23us/sample - loss: 0.2126 - acc: 0.9067\n",
      "Epoch 89/100\n",
      "750/750 [==============================] - 0s 27us/sample - loss: 0.2123 - acc: 0.9053\n",
      "Epoch 90/100\n",
      "750/750 [==============================] - 0s 23us/sample - loss: 0.2119 - acc: 0.9053\n",
      "Epoch 91/100\n",
      "750/750 [==============================] - 0s 23us/sample - loss: 0.2118 - acc: 0.9067\n",
      "Epoch 92/100\n",
      "750/750 [==============================] - 0s 21us/sample - loss: 0.2115 - acc: 0.9053\n",
      "Epoch 93/100\n",
      "750/750 [==============================] - 0s 21us/sample - loss: 0.2114 - acc: 0.9067\n",
      "Epoch 94/100\n",
      "750/750 [==============================] - 0s 21us/sample - loss: 0.2110 - acc: 0.9040\n",
      "Epoch 95/100\n",
      "750/750 [==============================] - 0s 23us/sample - loss: 0.2108 - acc: 0.9040\n",
      "Epoch 96/100\n",
      "750/750 [==============================] - 0s 21us/sample - loss: 0.2106 - acc: 0.9040\n",
      "Epoch 97/100\n",
      "750/750 [==============================] - 0s 22us/sample - loss: 0.2103 - acc: 0.9053\n",
      "Epoch 98/100\n",
      "750/750 [==============================] - 0s 21us/sample - loss: 0.2101 - acc: 0.9053\n",
      "Epoch 99/100\n",
      "750/750 [==============================] - 0s 21us/sample - loss: 0.2099 - acc: 0.9053\n",
      "Epoch 100/100\n",
      "750/750 [==============================] - 0s 20us/sample - loss: 0.2097 - acc: 0.9067\n"
     ]
    }
   ],
   "source": [
    "# Compile the Sequential model together and customize metrics\n",
    "new_model.compile(loss=\"binary_crossentropy\", optimizer=\"adam\", metrics=[\"accuracy\"])\n",
    "\n",
    "# Fit the model to the training data\n",
    "new_fit_model = new_model.fit(X_moon_train_scaled, y_moon_train, epochs=100, shuffle=True)"
   ]
  },
  {
   "cell_type": "code",
   "execution_count": null,
   "metadata": {},
   "outputs": [],
   "source": []
  }
 ],
 "metadata": {
  "kernelspec": {
   "display_name": "pythondate",
   "language": "python",
   "name": "pythondate"
  },
  "language_info": {
   "codemirror_mode": {
    "name": "ipython",
    "version": 3
   },
   "file_extension": ".py",
   "mimetype": "text/x-python",
   "name": "python",
   "nbconvert_exporter": "python",
   "pygments_lexer": "ipython3",
   "version": "3.7.7"
  }
 },
 "nbformat": 4,
 "nbformat_minor": 4
}
